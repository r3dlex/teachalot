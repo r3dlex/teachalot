{
 "cells": [
  {
   "cell_type": "code",
   "execution_count": 1,
   "metadata": {},
   "outputs": [],
   "source": [
    "import pandas as pd\n",
    "import seaborn as sns\n",
    "import matplotlib.pyplot as plt\n",
    "import os\n",
    "import re\n",
    "import numpy as np\n",
    "import math\n",
    "from sklearn.tree import DecisionTreeClassifier, export_graphviz\n",
    "from graphviz import Source\n",
    "from IPython.display import SVG"
   ]
  },
  {
   "cell_type": "code",
   "execution_count": 2,
   "metadata": {},
   "outputs": [],
   "source": [
    "class PathResolver:\n",
    "    _relative_directory = '..'\n",
    "    _source_directory = '{}/Src'.format(_relative_directory)\n",
    "    _data_directory = '{}/Data'.format(_relative_directory)\n",
    "\n",
    "    def GetDataFilepath(__self__, filename):\n",
    "      return '{}/{}'.format(__self__._data_directory, filename)\n",
    "\n",
    "    def GetSrcFilepath(__self__, filename):\n",
    "      return '{}/{}'.format(__self__._source_directory, filename)\n",
    "\n",
    "    def ReadDataFrameFromFilepath(__self__, filename):\n",
    "      return pd.read_csv(__self__.GetDataFilepath(filename), sep=\";\")"
   ]
  },
  {
   "cell_type": "code",
   "execution_count": 3,
   "metadata": {},
   "outputs": [],
   "source": [
    "path_resolver = PathResolver()"
   ]
  },
  {
   "cell_type": "code",
   "execution_count": 4,
   "metadata": {},
   "outputs": [
    {
     "data": {
      "text/html": [
       "<div>\n",
       "<style scoped>\n",
       "    .dataframe tbody tr th:only-of-type {\n",
       "        vertical-align: middle;\n",
       "    }\n",
       "\n",
       "    .dataframe tbody tr th {\n",
       "        vertical-align: top;\n",
       "    }\n",
       "\n",
       "    .dataframe thead th {\n",
       "        text-align: right;\n",
       "    }\n",
       "</style>\n",
       "<table border=\"1\" class=\"dataframe\">\n",
       "  <thead>\n",
       "    <tr style=\"text-align: right;\">\n",
       "      <th></th>\n",
       "      <th>client_id</th>\n",
       "      <th>birth_number</th>\n",
       "      <th>district_id</th>\n",
       "    </tr>\n",
       "  </thead>\n",
       "  <tbody>\n",
       "    <tr>\n",
       "      <th>0</th>\n",
       "      <td>1</td>\n",
       "      <td>706213</td>\n",
       "      <td>18</td>\n",
       "    </tr>\n",
       "    <tr>\n",
       "      <th>1</th>\n",
       "      <td>2</td>\n",
       "      <td>450204</td>\n",
       "      <td>1</td>\n",
       "    </tr>\n",
       "    <tr>\n",
       "      <th>2</th>\n",
       "      <td>3</td>\n",
       "      <td>406009</td>\n",
       "      <td>1</td>\n",
       "    </tr>\n",
       "    <tr>\n",
       "      <th>3</th>\n",
       "      <td>4</td>\n",
       "      <td>561201</td>\n",
       "      <td>5</td>\n",
       "    </tr>\n",
       "    <tr>\n",
       "      <th>4</th>\n",
       "      <td>5</td>\n",
       "      <td>605703</td>\n",
       "      <td>5</td>\n",
       "    </tr>\n",
       "  </tbody>\n",
       "</table>\n",
       "</div>"
      ],
      "text/plain": [
       "   client_id  birth_number  district_id\n",
       "0          1        706213           18\n",
       "1          2        450204            1\n",
       "2          3        406009            1\n",
       "3          4        561201            5\n",
       "4          5        605703            5"
      ]
     },
     "execution_count": 4,
     "metadata": {},
     "output_type": "execute_result"
    }
   ],
   "source": [
    "clients = path_resolver.ReadDataFrameFromFilepath('client.asc')\n",
    "clients.head()"
   ]
  },
  {
   "cell_type": "code",
   "execution_count": 5,
   "metadata": {},
   "outputs": [],
   "source": [
    "class DateResolver:\n",
    "    #Birthnumber is an abstraction that holds an encoded yymmdd in a specific format\n",
    "    def resolve_gender_and_birthdate(__self__, date_number):\n",
    "        [yy, mm, dd] = __self__._resolve_birthdate(date_number)\n",
    "        \n",
    "        return (__self__._resolve_gender_from_month(mm), __self__.get_date(yy, __self__._correct_month_if_necessary(mm), dd))\n",
    "    \n",
    "    def resolve_birthdate(__self__, date_number):\n",
    "        [yy, mm, dd] = __self__._resolve_birthdate(date_number)\n",
    "        \n",
    "        return __self__.get_date(yy, __self__._correct_month_if_necessary(mm), dd)\n",
    "    \n",
    "    def _resolve_birthdate(__self__, date_number):\n",
    "        pair_list = [int(x) for x in re.findall('\\d{2}', str(date_number))]\n",
    "        \n",
    "        return [pair_list[0], pair_list[1], pair_list[2]]\n",
    "        \n",
    "    # If the month is larger than 50, then it is a woman (MM + 50)\n",
    "    def _resolve_gender_from_month(__self__, mm):\n",
    "        return 'Male' if mm < 50 else 'Female'\n",
    "    \n",
    "    def _correct_month_if_necessary(__self__, mm):\n",
    "        return mm - 50 if mm >= 50 else mm\n",
    "            \n",
    "    def get_date(__self__, yy, mm, dd):\n",
    "        return '19{}-{}-{}'.format(yy, mm, dd)"
   ]
  },
  {
   "cell_type": "code",
   "execution_count": null,
   "metadata": {},
   "outputs": [],
   "source": [
    "reference_analysis_date = pd.to_datetime(\"1999-09-15\")\n",
    "\n",
    "def get_int_years_delta(start_date, end_date):\n",
    "    return len(pd.date_range(start = start_date, end = end_date,freq='D')) // 365"
   ]
  },
  {
   "cell_type": "code",
   "execution_count": null,
   "metadata": {},
   "outputs": [],
   "source": [
    "date_resolver = DateResolver()\n",
    "genders_and_birth_dates = clients.birth_number.apply(date_resolver.resolve_gender_and_birthdate)\n",
    "clients['gender'] = [gender for (gender, _) in genders_and_birth_dates]\n",
    "clients['birth_date'] = [birth_date for (_, birth_date) in genders_and_birth_dates]\n",
    "clients.birth_date = clients.birth_date.apply(pd.to_datetime)\n",
    "clients['age'] = clients.birth_date.apply(lambda birth_date: get_int_years_delta(birth_date, reference_analysis_date))\n",
    "\n",
    "clients.head()"
   ]
  },
  {
   "cell_type": "code",
   "execution_count": null,
   "metadata": {},
   "outputs": [],
   "source": [
    "disposition = path_resolver.ReadDataFrameFromFilepath('disp.asc')\n",
    "disposition.head()"
   ]
  },
  {
   "cell_type": "code",
   "execution_count": null,
   "metadata": {},
   "outputs": [],
   "source": [
    "districts = path_resolver.ReadDataFrameFromFilepath('district.asc')\n",
    "districts.head()"
   ]
  },
  {
   "cell_type": "code",
   "execution_count": null,
   "metadata": {},
   "outputs": [],
   "source": [
    "districts.columns = ['district_id','district_name','region',\"n_inhabitants\",\n",
    "                    \"municip_less_499\",\"municip_between_500_1999\",\"municip_between_2000_9999\",\n",
    "                    \"municip_more_10000\", \"n_cities\",\"ratio_urban_inhab\",\"avg_salary\",\"unemploy_rate_95\",\n",
    "                    \"unemploy_rate_96\",\"n_entrepreneurs_1000_inhab\",\"n_commited_crimes_95\",\"n_commited_crimes_96\"]\n",
    "districts.head()"
   ]
  },
  {
   "cell_type": "code",
   "execution_count": null,
   "metadata": {},
   "outputs": [],
   "source": [
    "clients_dispositions = pd.merge(clients, disposition, on = 'client_id')\n",
    "clients_dispositions.head()"
   ]
  },
  {
   "cell_type": "code",
   "execution_count": null,
   "metadata": {},
   "outputs": [],
   "source": [
    "credit_cards = path_resolver.ReadDataFrameFromFilepath('card.asc')\n",
    "credit_cards.issued = pd.to_datetime(credit_cards.issued.apply(date_resolver.resolve_birthdate))\n",
    "credit_cards.head()"
   ]
  },
  {
   "cell_type": "code",
   "execution_count": null,
   "metadata": {},
   "outputs": [],
   "source": [
    "class CzechTranslator:    \n",
    "    _cz_to_en_dict = {\n",
    "        'POPLATEK MESICNE': 'monthly', 'POPLATEK TYDNE': 'weekly', 'POPLATEK PO OBRATU': 'after_transaction',\n",
    "        'PRIJEM': 'credit', 'VYDAJ': 'debit', 'VYBER': 'choice',\n",
    "        'VYBER KARTOU': 'card_debit', 'VKLAD': 'cash_credit', 'VYBER': 'cash_debit', \n",
    "        'PREVOD Z UCTU': 'other_bank_credit', 'PREVOD NA UCET': 'other_bank_debit',\n",
    "        'POJISTNE': 'insurance', 'SIPO': 'household', 'LEASING': 'leasing', 'UVER': 'loan',\n",
    "        'DUCHOD': 'pension', 'SLUZBY': 'statement_for_payment', 'SANKC. UROK': 'sanction_negative_balance', 'UROK': 'interest_credit'\n",
    "    }\n",
    "    \n",
    "    def translate_if_possible(__self__, word):\n",
    "        if type(word) != str:\n",
    "            return ''\n",
    "        \n",
    "        uppercase_word = str.upper(word)\n",
    "        \n",
    "        return __self__._cz_to_en_dict[uppercase_word] if __self__._cz_to_en_dict.get(uppercase_word) != None else word\n",
    "            \n",
    "czech_to_en = CzechTranslator()"
   ]
  },
  {
   "cell_type": "code",
   "execution_count": null,
   "metadata": {},
   "outputs": [],
   "source": [
    "# Translates czech words\n",
    "orders = path_resolver.ReadDataFrameFromFilepath('order.asc')\n",
    "orders.k_symbol = orders.k_symbol.apply(czech_to_en.translate_if_possible)\n",
    "orders.head()"
   ]
  },
  {
   "cell_type": "code",
   "execution_count": null,
   "metadata": {},
   "outputs": [],
   "source": [
    "# Translates A, B, C and D to human readable fields\n",
    "loans_status_lookup = {'A': 'finished_ok', 'B': 'finished_with_default', 'C': 'running_ok', 'D': 'running_in_debt'}\n",
    "loans = path_resolver.ReadDataFrameFromFilepath('loan.asc')\n",
    "loans.date = pd.to_datetime(loans.date.apply(date_resolver.resolve_birthdate))\n",
    "loans.status = [loans_status_lookup[status] for status in loans.status]\n",
    "loans.head()"
   ]
  },
  {
   "cell_type": "code",
   "execution_count": null,
   "metadata": {},
   "outputs": [],
   "source": [
    "accounts = path_resolver.ReadDataFrameFromFilepath('account.asc')\n",
    "accounts.date = pd.to_datetime(accounts.date.apply(date_resolver.resolve_birthdate))\n",
    "accounts.frequency = accounts.frequency.apply(czech_to_en.translate_if_possible)\n",
    "print(accounts.frequency.value_counts())\n",
    "accounts.head()"
   ]
  },
  {
   "cell_type": "code",
   "execution_count": null,
   "metadata": {},
   "outputs": [],
   "source": [
    "transactions = pd.read_csv(path_resolver.GetDataFilepath('trans.asc'), sep=\";\", dtype = {'operation': str})\n",
    "transactions.date = pd.to_datetime(transactions.date.apply(date_resolver.resolve_birthdate))\n",
    "transactions.type = transactions.type.apply(czech_to_en.translate_if_possible)\n",
    "print(transactions.type.value_counts())\n",
    "print(\"==============================\")\n",
    "transactions.operation = transactions.operation.apply(czech_to_en.translate_if_possible)\n",
    "print(transactions.operation.value_counts())\n",
    "transactions.head()"
   ]
  },
  {
   "cell_type": "code",
   "execution_count": null,
   "metadata": {},
   "outputs": [],
   "source": [
    "clients_districts = pd.merge(clients_dispositions, districts, on = 'district_id')\n",
    "clients_districts.head()"
   ]
  },
  {
   "cell_type": "code",
   "execution_count": null,
   "metadata": {},
   "outputs": [],
   "source": [
    "accounts_districts = pd.merge(accounts, districts, on = 'district_id')\n",
    "accounts_districts.head()"
   ]
  },
  {
   "cell_type": "code",
   "execution_count": null,
   "metadata": {},
   "outputs": [],
   "source": [
    "clients_accounts = pd.merge(clients_dispositions, accounts, on = 'account_id', suffixes = ('_client', '_account'))\n",
    "clients_accounts.head()"
   ]
  },
  {
   "cell_type": "code",
   "execution_count": null,
   "metadata": {},
   "outputs": [],
   "source": [
    "clients_districts_cards = pd.merge(clients_districts, credit_cards, on = 'disp_id', suffixes=('_client', '_card'))\n",
    "clients_districts_cards.head()"
   ]
  },
  {
   "cell_type": "code",
   "execution_count": null,
   "metadata": {},
   "outputs": [],
   "source": [
    "clients_accounts_loans = pd.merge(clients_accounts, loans, on = 'account_id', suffixes = ('_client', '_loan'))\n",
    "clients_accounts_loans.head()"
   ]
  },
  {
   "cell_type": "code",
   "execution_count": null,
   "metadata": {},
   "outputs": [],
   "source": [
    "\n",
    "\n",
    "# GetScoreForFactorVariables <- function(data, discript, strings)\n",
    "# {\n",
    "#   values <- data[, discript]\n",
    "#   scores <- 1:length(strings)\n",
    "#   names(scores) <- strings\n",
    "#   data$scores <- scores[values]\n",
    "  \n",
    "#   return (data$scores)\n",
    "# }\n",
    "\n",
    "# GetScoreForNumericVariables <- function(data, posneg)\n",
    "# {\n",
    "#   values <- as.double(unlist(data))\n",
    "#   score <- as.integer(NA)\n",
    "#   data <- data.frame(values, score)\n",
    "  \n",
    "#   posneg = \"p\"\n",
    "#   range1 <- between(data$values,quantile(data$values, na.rm = T)[1],quantile(data$values, na.rm = T)[2])\n",
    "#   range2 <- between(data$values,quantile(data$values, na.rm = T)[2],quantile(data$values, na.rm = T)[3])\n",
    "#   range3 <- between(data$values,quantile(data$values, na.rm = T)[3],quantile(data$values, na.rm = T)[4])\n",
    "#   range4 <- between(data$values,quantile(data$values, na.rm = T)[4],quantile(data$values, na.rm = T)[5])\n",
    "  \n",
    "#   if(posneg == \"p\")\n",
    "#   {\n",
    "#     data$score <- ifelse(range1 == TRUE, 1,ifelse(range2 == TRUE, 2,ifelse(range3 == TRUE, 3, ifelse(range4 == TRUE, 4, NA))))\n",
    "    \n",
    "#     return(data$score)\n",
    "    \n",
    "#   }else if(posneg == \"n\")\n",
    "#   {\n",
    "    #data$score <- ifelse(range1 == TRUE, 4,ifelse(range2 == TRUE, 3,ifelse(range3 == TRUE, 2, ifelse(range4 == TRUE, 1, NA))))\n",
    "    \n",
    "#    return(data$score)\n",
    "#  }else\n",
    "#  {\n",
    "#    print(\"Insira p ou n para obter o score desejado.\")  \n",
    "#  }      \n",
    "#}  \n",
    "\n",
    "#ConvertCharAndIntegerVariables <- function(data){\n",
    "#  data[sapply(data, is.integer)] <- lapply(data[sapply(data, is.integer)], as.numeric)\n",
    "#  data[sapply(data, is.character)] <- lapply(data[sapply(data, is.character)], as.factor) \n",
    "  \n",
    "#  return(sapply(data, class))\n",
    "#}\n",
    "\n",
    "#Original R code to be rewritten\n",
    "#clientrating.df <- clientsdisp.df[c(1,4,6,8)]\n",
    "#clientrating.df$cl_district_id <- joinclientaccount$cl_district_id\n",
    "#clientrating.df$acnt_district_id <- joinclientaccount$acnt_district_id\n",
    "#clientrating.df$diff_district <- ifelse(clientrating.df$cl_district_id != clientrating.df$acnt_district_id, 1, 0)\n",
    "\n",
    "#client district\n",
    "#clientrating.df$dis_avg_salary <- GetScoreForNumericVariables(joinclientdistrict$avg_salary,\"p\")\n",
    "#clientrating.df$dis_unemp_rate_95 <- GetScoreForNumericVariables(joinclientdistrict$unemploy_rate_95,\"n\")\n",
    "#clientrating.df$dis_unemp_rate_96 <- GetScoreForNumericVariables(joinclientdistrict$unemploy_rate_96,\"n\")\n",
    "#clientrating.df$dis_commit_crimes_95 <- GetScoreForNumericVariables(joinclientdistrict$n_commited_crimes_95,\"n\")\n",
    "#clientrating.df$dis_commit_crimes_96 <- GetScoreForNumericVariables(joinclientdistrict$n_commited_crimes_96,\"n\")\n",
    "\n",
    "\n",
    "# client type - Owner - 2, DISPONENT - 1\n",
    "#clientrating.df$client_type <- as.numeric(revalue(joinclientdistrict$type_cl,replace = c(\"OWNER\" = 2, \"DISPONENT\" = 1)))\n",
    "\n",
    "# Card score - Gold - 3, Classic - 2, Junior - 1\n",
    "#clientrating.df$card <- as.numeric(revalue(joinclientcard$type_card,replace = c(\"gold\" = 3, \"classic\" = 2, \"junior\" = 1)))\n",
    "\n",
    "# Years that the client has the card\n",
    "#clientrating.df$year_card <- GetScoreForNumericVariables(GetAgeFromRefDate(joinclientcard$issued,refdate),\"p\")\n",
    "\n",
    "# Account frequency\n",
    "#clientrating.df$acnt_frequency <- GetScoreForFactorVariables(joinclientaccount, \"frequency\", c(\"Monthly\", \"Weekly\", \"AfterTransaction\"))\n",
    "\n",
    "# Years that the client has the account\n",
    "#clientrating.df$year_account <- GetScoreForNumericVariables(GetAgeFromRefDate(joinclientaccount$date,refdate))\n",
    "\n",
    "# Loans\n",
    "#clientrating.df$loan_status <- GetScoreForFactorVariables(joinclientacntloans, \"status\", c(\"ContractFinishedDefault\", \"RunningInDebt\", \"RunningOk\",\"ContractFinishedOk\"))\n",
    "\n",
    "#clientrating.df$year_loan <- GetAgeFromRefDate(joinclientacntloans$date_loan,refdate) \n",
    "#clientrating.df$duration_loan <- joinclientacntloans$duration           \n",
    "#year_loan <- clientrating.df$year_loan * 12\n",
    "#duration <- joinclientacntloans$duration\n",
    "#clientrating.df$mth_to_pay_loan <- ifelse(year_loan < duration, duration - year_loan,0)\n",
    "\n",
    "\n",
    "# sum score\n",
    "#clientrating.df$sum_score <- rowSums(clientrating.df[,7:18], na.rm = TRUE) \n",
    "\n",
    "#colnames(clientrating.df)"
   ]
  },
  {
   "cell_type": "code",
   "execution_count": null,
   "metadata": {},
   "outputs": [],
   "source": [
    "clients_rating = clients_dispositions[['client_id', 'gender', 'account_id']]\n",
    "clients_accounts_loans.amount.quantile([0.0, 0.25, 0.5, 0.75, 1.0])"
   ]
  },
  {
   "cell_type": "code",
   "execution_count": null,
   "metadata": {},
   "outputs": [],
   "source": [
    "# Still not using python processed data\n",
    "arquivo = pd.read_csv(\"banco.csv\", sep = \";\")\n",
    "\n",
    "arquivo.fillna(0, inplace = True)\n",
    "\n",
    "y = arquivo[\"sum_scoreD\"]\n",
    "X = arquivo[[\"gender\", \"age\", \"dis_avg_salary\", \"dis_unemp_rate_95\", \"dis_unemp_rate_96\",\n",
    "        \"dis_commit_crimes_95\", \"dis_commit_crimes_96\", \"client_type\", \"card\", \"year_card\", \"acnt_frequency\", \n",
    "        \"year_account\", \"loan_status\"]]\n",
    "\n",
    "dt = DecisionTreeClassifier(min_samples_split=1000, random_state=99)\n",
    "dt.fit(X, y)\n",
    "\n",
    "graph2 = Source(export_graphviz(dt, out_file=None\n",
    "   , feature_names=[\"gender\", \"age\", \"dis_avg_salary\", \"dis_unemp_rate_95\", \"dis_unemp_rate_96\",\n",
    "        \"dis_commit_crimes_95\", \"dis_commit_crimes_96\", \"client_type\", \"card\", \"year_card\", \"acnt_frequency\", \n",
    "        \"year_account\", \"loan_status\"], class_names=['Good', 'Average', 'Ok', 'Bad'] \n",
    "   , filled = True))\n",
    "\n",
    "display(SVG(graph2.pipe(format='svg')))"
   ]
  }
 ],
 "metadata": {
  "kernelspec": {
   "display_name": "Python 3",
   "language": "python",
   "name": "python3"
  },
  "language_info": {
   "codemirror_mode": {
    "name": "ipython",
    "version": 3
   },
   "file_extension": ".py",
   "mimetype": "text/x-python",
   "name": "python",
   "nbconvert_exporter": "python",
   "pygments_lexer": "ipython3",
   "version": "3.6.7"
  }
 },
 "nbformat": 4,
 "nbformat_minor": 2
}
